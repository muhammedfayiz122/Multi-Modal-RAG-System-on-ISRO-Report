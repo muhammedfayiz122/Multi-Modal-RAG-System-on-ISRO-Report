{
 "cells": [
  {
   "cell_type": "code",
   "execution_count": 7,
   "id": "883bd380",
   "metadata": {},
   "outputs": [
    {
     "data": {
      "text/plain": [
       "'..//data//extracted_images\\\\figure-10-70.jpg'"
      ]
     },
     "execution_count": 7,
     "metadata": {},
     "output_type": "execute_result"
    }
   ],
   "source": [
    "import os\n",
    "img_path = \"..//data//extracted_images\"\n",
    "li = sorted(os.listdir(img_path ))\n",
    "os.path.join(img_path,li[0])\n"
   ]
  }
 ],
 "metadata": {
  "kernelspec": {
   "display_name": "Python 3",
   "language": "python",
   "name": "python3"
  },
  "language_info": {
   "codemirror_mode": {
    "name": "ipython",
    "version": 3
   },
   "file_extension": ".py",
   "mimetype": "text/x-python",
   "name": "python",
   "nbconvert_exporter": "python",
   "pygments_lexer": "ipython3",
   "version": "3.13.0"
  }
 },
 "nbformat": 4,
 "nbformat_minor": 5
}
